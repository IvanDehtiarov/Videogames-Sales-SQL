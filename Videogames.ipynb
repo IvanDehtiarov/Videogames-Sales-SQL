{
 "cells": [
  {
   "cell_type": "markdown",
   "id": "df3133a5",
   "metadata": {},
   "source": [
    "# 1. Who are TOP-5 publishers who released the biggest amount of successful videogames?"
   ]
  },
  {
   "cell_type": "markdown",
   "id": "38390018",
   "metadata": {},
   "source": [
    "### Description: in this case a videogame is considered 'successfull' when at least 10 million copies of it is sold globally."
   ]
  },
  {
   "cell_type": "markdown",
   "id": "b93256f9",
   "metadata": {},
   "source": [
    "### Input code:"
   ]
  },
  {
   "cell_type": "code",
   "execution_count": null,
   "id": "522f3a64",
   "metadata": {},
   "outputs": [],
   "source": [
    "SELECT\n",
    "  publisher,\n",
    "  COUNT(name) AS top_games\n",
    "FROM `sql-study-409813.Test.videogames`\n",
    "WHERE \n",
    "  global_sales >= 10\n",
    "GROUP BY\n",
    "  publisher\n",
    "ORDER BY\n",
    "  top_games DESC\n",
    "LIMIT\n",
    "  5"
   ]
  },
  {
   "cell_type": "markdown",
   "id": "c4676b53",
   "metadata": {},
   "source": [
    "### Output data:"
   ]
  },
  {
   "cell_type": "markdown",
   "id": "1834898f",
   "metadata": {},
   "source": [
    "### Brief exploration of an insight:\n",
    "The output data shows us that a lot of Nintendo games are popular by sales which is almost 4 time more than the result of the second place, Activision."
   ]
  },
  {
   "cell_type": "markdown",
   "id": "fb373a56",
   "metadata": {},
   "source": [
    "# 2. What is the list videogames which were relatively popular and had similar sales in all main regions: North America, Europe, and Japan?"
   ]
  },
  {
   "cell_type": "markdown",
   "id": "df72f8a2",
   "metadata": {},
   "source": [
    "### Description: in this case we suppose that the difference in sales is at most +/- 0,5 mln copies sold while global sales are at least 3 mln."
   ]
  },
  {
   "cell_type": "markdown",
   "id": "a306da34",
   "metadata": {},
   "source": [
    "### Input code:"
   ]
  },
  {
   "cell_type": "code",
   "execution_count": null,
   "id": "bae95dd9",
   "metadata": {},
   "outputs": [],
   "source": [
    "SELECT\n",
    "  name,\n",
    "  genre,\n",
    "  publisher,\n",
    "  NA_sales,\n",
    "  EU_sales,\n",
    "  JP_sales,\n",
    "  global_sales\n",
    "FROM \n",
    "  `sql-study-409813.Test.videogames`\n",
    "WHERE\n",
    "  global_sales >= 3\n",
    "  AND ABS(NA_sales - EU_sales) <= 0.5\n",
    "  AND ABS(NA_sales - JP_sales) <= 0.5\n",
    "  AND ABS(EU_sales - JP_sales) <= 0.5\n",
    "ORDER BY\n",
    "  global_sales DESC"
   ]
  },
  {
   "cell_type": "markdown",
   "id": "d2662c02",
   "metadata": {},
   "source": [
    "### Output data:"
   ]
  },
  {
   "cell_type": "markdown",
   "id": "502f9728",
   "metadata": {},
   "source": [
    "### Brief exploration of an insight:\n",
    "The table shows us a list of 5 videogames with relatively high global sales and with equal distribution of sales among 3 main regions. Moreover, 4 out of 5 games were released by Nintendo (which is by itself a Japan-based company). This fact tells that Nintendo is one of thise publishers that try be oriented Japan, as well as North America and Europe."
   ]
  },
  {
   "cell_type": "markdown",
   "id": "75fdbbd2",
   "metadata": {},
   "source": [
    "# 3. What is the largest time period between two consecutive game releases of the same publisher?"
   ]
  },
  {
   "cell_type": "markdown",
   "id": "0c9a5586",
   "metadata": {},
   "source": [
    "### Description: Here we analyse only those videogames which have a specified release year (the *year* colomn does not contain 'N/A' value and the *publisher* is not 'Unknown')."
   ]
  },
  {
   "cell_type": "markdown",
   "id": "79722441",
   "metadata": {},
   "source": [
    "### Input code:"
   ]
  },
  {
   "cell_type": "code",
   "execution_count": null,
   "id": "6868601a",
   "metadata": {},
   "outputs": [],
   "source": [
    "WITH years AS (\n",
    "  SELECT\n",
    "    publisher,\n",
    "    LEAD(CAST(year AS int), 1) OVER(PARTITION BY publisher ORDER BY year) - CAST(year AS int) AS year_diff,\n",
    "  FROM \n",
    "    `sql-study-409813.Test.videogames`\n",
    "  WHERE\n",
    "    year <> 'N/A'\n",
    "    AND publisher <> 'Unknown'\n",
    ")\n",
    "SELECT\n",
    "  publisher,\n",
    "  year_diff\n",
    "FROM \n",
    "  years\n",
    "ORDER BY  \n",
    "  year_diff DESC"
   ]
  },
  {
   "cell_type": "markdown",
   "id": "f1ad6903",
   "metadata": {},
   "source": [
    "### Output data:"
   ]
  },
  {
   "cell_type": "markdown",
   "id": "ebb8cb05",
   "metadata": {},
   "source": [
    "### Brief exploration of an insight:\n",
    "The tables shows us 2 publishers who have quite long period of 17 years between their game releases. We can explore this data further by monitoring through all videogames released by each publisher."
   ]
  },
  {
   "cell_type": "markdown",
   "id": "5fa63c10",
   "metadata": {},
   "source": [
    "### Input code:"
   ]
  },
  {
   "cell_type": "code",
   "execution_count": null,
   "id": "0f234874",
   "metadata": {},
   "outputs": [],
   "source": [
    "SELECT\n",
    "  publisher,\n",
    "  name,\n",
    "  year\n",
    "FROM\n",
    "  `sql-study-409813.Test.videogames`\n",
    "WHERE\n",
    "  publisher = 'Avalon Interactive'\n",
    "ORDER BY\n",
    "  year;\n",
    "\n",
    "SELECT\n",
    "  publisher,\n",
    "  name,\n",
    "  year\n",
    "FROM\n",
    "  `sql-study-409813.Test.videogames`\n",
    "WHERE\n",
    "  publisher = 'Mattel Interactive'\n",
    "ORDER BY\n",
    "  year"
   ]
  },
  {
   "cell_type": "markdown",
   "id": "1d2a0f4b",
   "metadata": {},
   "source": [
    "### Output data:"
   ]
  },
  {
   "cell_type": "markdown",
   "id": "0ab18630",
   "metadata": {},
   "source": [
    "Avalon Interactive released 'Death Trap' in 1982 but the second videogame was only after 17 years in 1999 when they released '3D Tank Warfare Simulator Panzer Front'."
   ]
  },
  {
   "cell_type": "markdown",
   "id": "9d15cbca",
   "metadata": {},
   "source": [
    "Similar situation can be observed with Mattel Interactive but they have already managed to release 8 videogames during 1981-1982 which was followed by the 9th only in 1999."
   ]
  },
  {
   "cell_type": "markdown",
   "id": "28bbe944",
   "metadata": {},
   "source": [
    "# 4. What type of game genre was popular during each decade over the whole period (1980 - 2020)?"
   ]
  },
  {
   "cell_type": "markdown",
   "id": "6f0d7d9b",
   "metadata": {},
   "source": [
    "### Description: like in previous questions we use the data where the release year is specified"
   ]
  },
  {
   "cell_type": "markdown",
   "id": "f2295484",
   "metadata": {},
   "source": [
    "### Input code:"
   ]
  },
  {
   "cell_type": "markdown",
   "id": "63a0928c",
   "metadata": {},
   "source": [
    "### Option 1 (using QUALIFY clause)"
   ]
  },
  {
   "cell_type": "code",
   "execution_count": null,
   "id": "f62f1257",
   "metadata": {},
   "outputs": [],
   "source": [
    "WITH genre_sales AS (\n",
    "  SELECT\n",
    "    genre,\n",
    "    CASE\n",
    "      WHEN CAST(year AS INT) BETWEEN 1980 AND 1990 THEN '1980-1990'\n",
    "      WHEN CAST(year AS INT) BETWEEN 1991 AND 2000 THEN '1991-2000'\n",
    "      WHEN CAST(year AS INT) BETWEEN 2001 AND 2010 THEN '2001-2010'\n",
    "      WHEN CAST(year AS INT) BETWEEN 2011 AND 2020 THEN '2011-2020'\n",
    "    END AS year_group,\n",
    "    ROUND(SUM(global_sales), 2) AS genre_global_sales\n",
    "  FROM\n",
    "    `sql-study-409813.Test.videogames`\n",
    "  WHERE\n",
    "    year <> 'N/A'\n",
    "  GROUP BY\n",
    "    genre,\n",
    "    CASE\n",
    "      WHEN CAST(year AS INT) BETWEEN 1980 AND 1990 THEN '1980-1990'\n",
    "      WHEN CAST(year AS INT) BETWEEN 1991 AND 2000 THEN '1991-2000'\n",
    "      WHEN CAST(year AS INT) BETWEEN 2001 AND 2010 THEN '2001-2010'\n",
    "      WHEN CAST(year AS INT) BETWEEN 2011 AND 2020 THEN '2011-2020'\n",
    "    END\n",
    ")\n",
    "SELECT\n",
    "  year_group,\n",
    "  genre,\n",
    "  genre_global_sales,\n",
    "FROM \n",
    "  genre_sales\n",
    "QUALIFY \n",
    "  RANK() OVER(PARTITION BY year_group ORDER BY genre_global_sales DESC) = 1\n",
    "ORDER BY\n",
    "  year_group"
   ]
  },
  {
   "cell_type": "markdown",
   "id": "8fa903fd",
   "metadata": {},
   "source": [
    "### Option 2 (using subquery in FROM clause)"
   ]
  },
  {
   "cell_type": "code",
   "execution_count": null,
   "id": "68e9f699",
   "metadata": {},
   "outputs": [],
   "source": [
    "WITH genre_sales AS (\n",
    "  SELECT\n",
    "    genre,\n",
    "    CASE\n",
    "      WHEN CAST(year AS INT) BETWEEN 1980 AND 1990 THEN '1980-1990'\n",
    "      WHEN CAST(year AS INT) BETWEEN 1991 AND 2000 THEN '1991-2000'\n",
    "      WHEN CAST(year AS INT) BETWEEN 2001 AND 2010 THEN '2001-2010'\n",
    "      WHEN CAST(year AS INT) BETWEEN 2011 AND 2020 THEN '2011-2020'\n",
    "    END AS year_group,\n",
    "    ROUND(SUM(global_sales), 2) AS genre_global_sales\n",
    "  FROM\n",
    "    `sql-study-409813.Test.videogames`\n",
    "  WHERE\n",
    "    year <> 'N/A'\n",
    "  GROUP BY\n",
    "    genre,\n",
    "    CASE\n",
    "      WHEN CAST(year AS INT) BETWEEN 1980 AND 1990 THEN '1980-1990'\n",
    "      WHEN CAST(year AS INT) BETWEEN 1991 AND 2000 THEN '1991-2000'\n",
    "      WHEN CAST(year AS INT) BETWEEN 2001 AND 2010 THEN '2001-2010'\n",
    "      WHEN CAST(year AS INT) BETWEEN 2011 AND 2020 THEN '2011-2020'\n",
    "    END\n",
    ")\n",
    "SELECT\n",
    "  year_group,\n",
    "  genre,\n",
    "  genre_global_sales\n",
    "FROM (\n",
    "  SELECT\n",
    "    year_group,\n",
    "    genre,\n",
    "    genre_global_sales,\n",
    "    RANK() OVER(PARTITION BY year_group ORDER BY genre_global_sales DESC) AS ranks\n",
    "  FROM genre_sales\n",
    ") AS genre_ranks\n",
    "WHERE\n",
    "  ranks = 1\n",
    "ORDER BY\n",
    "  year_group"
   ]
  },
  {
   "cell_type": "markdown",
   "id": "28fc3b3a",
   "metadata": {},
   "source": [
    "### Output data:"
   ]
  },
  {
   "cell_type": "markdown",
   "id": "f9923719",
   "metadata": {},
   "source": [
    "### Brief exploration of an insight:\n",
    "In fact, this data shows general preference of the global fans of videogames through each decade.\n",
    "Firstly, when the videogames industry began to develop, the market was filled with platformers. Then there was in a boom in the popularity of RPG. After that, the average audience became more casual and oriented on such characteristic as graphics which has been developing really fast in videogames over the last 20 years."
   ]
  },
  {
   "cell_type": "markdown",
   "id": "fb8aab29",
   "metadata": {},
   "source": [
    "# 5. What plaform was the most popular to play on in each of three main regions?"
   ]
  },
  {
   "cell_type": "markdown",
   "id": "2cb2e696",
   "metadata": {},
   "source": [
    "### Description: the popularity is measured by the number game copies sold on a specific platform."
   ]
  },
  {
   "cell_type": "markdown",
   "id": "8bfaf110",
   "metadata": {},
   "source": [
    "### Input code:"
   ]
  },
  {
   "cell_type": "markdown",
   "id": "7b82fc3e",
   "metadata": {},
   "source": [
    "### Option 1 (using QUALIFY clause)"
   ]
  },
  {
   "cell_type": "code",
   "execution_count": null,
   "id": "b6495f42",
   "metadata": {},
   "outputs": [],
   "source": [
    "WITH total_sales AS (\n",
    "  SELECT \n",
    "    platform,\n",
    "    ROUND(SUM(NA_sales), 2) AS total_NA_sales,\n",
    "    ROUND(SUM(EU_sales), 2) AS total_EU_sales,\n",
    "    ROUND(SUM(JP_sales), 2) AS total_JP_sales\n",
    "  FROM \n",
    "    `sql-study-409813.Test.videogames`\n",
    "  GROUP BY\n",
    "    platform\n",
    ")\n",
    "SELECT\n",
    "  platform,\n",
    "  total_NA_sales,\n",
    "  total_EU_sales,\n",
    "  total_JP_sales\n",
    "FROM\n",
    "  total_sales\n",
    "QUALIFY\n",
    "  RANK() OVER(ORDER BY total_NA_sales DESC) = 1\n",
    "  OR RANK() OVER(ORDER BY total_EU_sales DESC) = 1\n",
    "  OR RANK() OVER(ORDER BY total_JP_sales DESC) = 1\n",
    "ORDER BY\n",
    "  total_NA_sales DESC,\n",
    "  total_EU_sales DESC,\n",
    "  total_JP_sales DESC"
   ]
  },
  {
   "cell_type": "markdown",
   "id": "2c12d3e1",
   "metadata": {},
   "source": [
    "### Option 2 (using subquery in FROM clause)"
   ]
  },
  {
   "cell_type": "code",
   "execution_count": null,
   "id": "7053eb5d",
   "metadata": {},
   "outputs": [],
   "source": [
    "WITH total_sales AS (\n",
    "  SELECT \n",
    "    platform,\n",
    "    ROUND(SUM(NA_sales), 2) AS total_NA_sales,\n",
    "    ROUND(SUM(EU_sales), 2) AS total_EU_sales,\n",
    "    ROUND(SUM(JP_sales), 2) AS total_JP_sales\n",
    "  FROM \n",
    "    `sql-study-409813.Test.videogames`\n",
    "  GROUP BY\n",
    "    platform\n",
    ")\n",
    "SELECT\n",
    "  platform,\n",
    "  total_NA_sales,\n",
    "  total_EU_sales,\n",
    "  total_JP_sales\n",
    "FROM (\n",
    "  SELECT\n",
    "    platform,\n",
    "    total_NA_sales,\n",
    "    RANK() OVER(ORDER BY total_NA_sales DESC) AS rank_NA,\n",
    "    total_EU_sales,\n",
    "    RANK() OVER(ORDER BY total_EU_sales DESC) AS rank_EU,\n",
    "    total_JP_sales,\n",
    "    RANK() OVER(ORDER BY total_JP_sales DESC) AS rank_JP\n",
    "  FROM\n",
    "   total_sales \n",
    ")\n",
    "WHERE\n",
    "  rank_NA = 1\n",
    "  OR rank_EU = 1\n",
    "  OR rank_JP = 1\n",
    "ORDER BY\n",
    "  total_NA_sales DESC,\n",
    "  total_EU_sales DESC,\n",
    "  total_JP_sales DESC"
   ]
  },
  {
   "cell_type": "markdown",
   "id": "de7e6150",
   "metadata": {},
   "source": [
    "### Data output:"
   ]
  },
  {
   "cell_type": "markdown",
   "id": "caa0a334",
   "metadata": {},
   "source": [
    "### Brief exploration of an insight:\n",
    "This result shows that the most popular platform in North American region (mainly the USA) is traditionally Xbox360. On the other hand, European gamers always prefered PlayStation to other consoles, in this case PS3. Finally, the Japanese gamers loved their local platforms, such as Nintendo DS (the sales of game copies on DS is almost 15 times more than on Xbox360)."
   ]
  },
  {
   "cell_type": "markdown",
   "id": "4ed9eb59",
   "metadata": {},
   "source": [
    "# 6. Which game genre historically prefres which region (NA, EU, and JP)?"
   ]
  },
  {
   "cell_type": "markdown",
   "id": "d4651538",
   "metadata": {},
   "source": [
    "### Description: the evaluation is measured by the number of copies sold."
   ]
  },
  {
   "cell_type": "markdown",
   "id": "eb456d50",
   "metadata": {},
   "source": [
    "### Input code:"
   ]
  },
  {
   "cell_type": "code",
   "execution_count": null,
   "id": "5f618ead",
   "metadata": {},
   "outputs": [],
   "source": [
    "WITH sales_by_genre AS (\n",
    "  SELECT\n",
    "    genre,\n",
    "    ROUND(SUM(NA_sales), 2) AS total_NA_sales,\n",
    "    ROUND(SUM(EU_sales), 2) AS total_EU_sales,\n",
    "    ROUND(SUM(JP_sales), 2) AS total_JP_sales\n",
    "  FROM \n",
    "    `sql-study-409813.Test.videogames`\n",
    "  GROUP BY\n",
    "    genre\n",
    "),\n",
    "top_na AS (\n",
    "  SELECT \n",
    "    'North America' AS region, \n",
    "    genre\n",
    "  FROM \n",
    "    sales_by_genre\n",
    "  QUALIFY \n",
    "    RANK() OVER (ORDER BY total_NA_sales DESC) = 1\n",
    "),\n",
    "top_eu AS (\n",
    "  SELECT \n",
    "  'Europe' AS region, \n",
    "  genre\n",
    "  FROM \n",
    "    sales_by_genre\n",
    "  QUALIFY \n",
    "    RANK() OVER (ORDER BY total_EU_sales DESC) = 1\n",
    "),\n",
    "top_jp AS (\n",
    "  SELECT \n",
    "    'Japan' AS region, \n",
    "    genre\n",
    "  FROM \n",
    "    sales_by_genre\n",
    "  QUALIFY \n",
    "    RANK() OVER (ORDER BY total_JP_sales DESC) = 1\n",
    ")\n",
    "SELECT * FROM top_na\n",
    "UNION ALL\n",
    "SELECT * FROM top_eu\n",
    "UNION ALL\n",
    "SELECT * FROM top_jp"
   ]
  },
  {
   "cell_type": "markdown",
   "id": "ff9f7657",
   "metadata": {},
   "source": [
    "To find the answer for this question, like for the previous two ones, the QUALIFY clause was used.\n",
    "Since this statement is supperted by Google BigQuery, it gives an opportunity to reduce the length of code. Alternatively, subqueries may be used (in the FROM clause) to futher filter by the values of the window function."
   ]
  },
  {
   "cell_type": "markdown",
   "id": "9a049478",
   "metadata": {},
   "source": [
    "### Output data:"
   ]
  },
  {
   "cell_type": "markdown",
   "id": "5a0ec76a",
   "metadata": {},
   "source": [
    "### Brief exploration of an insight:\n",
    "The result gives us information about gamers' preferences in genres by region. No secret that Japanese audience prefers RPG while European and American gamers enjoy action games more."
   ]
  },
  {
   "cell_type": "markdown",
   "id": "f3757219",
   "metadata": {},
   "source": [
    "# 7. What genre each publisher specializes on?"
   ]
  },
  {
   "cell_type": "markdown",
   "id": "b9a0ec98",
   "metadata": {},
   "source": [
    "### Description: here we suppose the a publisher must release at least 3 games of the same genre to have enough experience in it. Moreover, if a publisher made the same number of game releases in two or more genres, we choose the genre which had more global sales."
   ]
  },
  {
   "cell_type": "markdown",
   "id": "cb6f6fdb",
   "metadata": {},
   "source": [
    "### Input code:"
   ]
  },
  {
   "cell_type": "code",
   "execution_count": null,
   "id": "73ee73bc",
   "metadata": {},
   "outputs": [],
   "source": [
    "SELECT\n",
    "  publisher,\n",
    "  genre,\n",
    "  COUNT(genre) AS number_of_releases,\n",
    "  ROUND(SUM(global_sales), 2) AS total_sales\n",
    "FROM \n",
    "  `sql-study-409813.Test.videogames`\n",
    "GROUP BY\n",
    "  publisher,\n",
    "  genre\n",
    "HAVING\n",
    "  COUNT(genre) >= 3\n",
    "QUALIFY\n",
    "  RANK() OVER(PARTITION BY publisher ORDER BY COUNT(genre) DESC, ROUND(SUM(global_sales), 2) DESC) = 1\n",
    "ORDER BY\n",
    "  publisher"
   ]
  },
  {
   "cell_type": "markdown",
   "id": "dd4c4ba7",
   "metadata": {},
   "source": [
    "### Output data:"
   ]
  },
  {
   "cell_type": "markdown",
   "id": "ef79c288",
   "metadata": {},
   "source": [
    "### Brief exploration of an insight:\n",
    "We obtained a table with a list of 253 publisher who met the description, a videogame genre they specialize in, and 'number of realses' with 'total sales' as accessory colomns.\n",
    "This may be used for futher analysis or for interest to search for one's favourite publishers and see the genre they commonly make their games in."
   ]
  }
 ],
 "metadata": {
  "kernelspec": {
   "display_name": ".venv (3.13.2)",
   "language": "python",
   "name": "python3"
  },
  "language_info": {
   "codemirror_mode": {
    "name": "ipython",
    "version": 3
   },
   "file_extension": ".py",
   "mimetype": "text/x-python",
   "name": "python",
   "nbconvert_exporter": "python",
   "pygments_lexer": "ipython3",
   "version": "3.13.2"
  }
 },
 "nbformat": 4,
 "nbformat_minor": 5
}
